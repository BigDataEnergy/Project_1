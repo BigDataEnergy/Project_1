{
 "cells": [
  {
   "cell_type": "code",

   "execution_count": 227,
   "metadata": {},
   "outputs": [],
   "source": [
    "%matplotlib notebook\n",
    "%matplotlib inline\n",
    "# Dependencies and Setup\n",
    "import matplotlib.pyplot as plt\n",
    "import pandas as pd\n",
    "import scipy.stats as st\n",
    "import numpy as np\n",
    "from scipy.stats import linregress\n",
    "from sklearn import datasets"
   ]
  },
  {
   "cell_type": "code",

   "execution_count": 228,

   "metadata": {},
   "outputs": [
    {
     "data": {
      "text/html": [
       "<div>\n",
       "<style scoped>\n",
       "    .dataframe tbody tr th:only-of-type {\n",
       "        vertical-align: middle;\n",
       "    }\n",
       "\n",
       "    .dataframe tbody tr th {\n",
       "        vertical-align: top;\n",
       "    }\n",
       "\n",
       "    .dataframe thead th {\n",
       "        text-align: right;\n",
       "    }\n",
       "</style>\n",
       "<table border=\"1\" class=\"dataframe\">\n",
       "  <thead>\n",
       "    <tr style=\"text-align: right;\">\n",
       "      <th></th>\n",
       "      <th>ID</th>\n",
       "      <th>title</th>\n",
       "      <th>artist</th>\n",
       "      <th>top genre</th>\n",
       "      <th>year</th>\n",
       "      <th>bpm</th>\n",
       "      <th>energy</th>\n",
       "      <th>danceability</th>\n",
       "      <th>dB</th>\n",
       "      <th>live</th>\n",
       "      <th>val</th>\n",
       "      <th>duration</th>\n",
       "      <th>acous</th>\n",
       "      <th>spch</th>\n",
       "      <th>popularity</th>\n",
       "    </tr>\n",
       "  </thead>\n",
       "  <tbody>\n",
       "    <tr>\n",
       "      <th>0</th>\n",
       "      <td>1</td>\n",
       "      <td>Hey, Soul Sister</td>\n",
       "      <td>Train</td>\n",
       "      <td>neo mellow</td>\n",
       "      <td>2010</td>\n",
       "      <td>97</td>\n",
       "      <td>89</td>\n",
       "      <td>67</td>\n",
       "      <td>-4</td>\n",
       "      <td>8</td>\n",
       "      <td>80</td>\n",
       "      <td>217</td>\n",
       "      <td>19</td>\n",
       "      <td>4</td>\n",
       "      <td>83</td>\n",
       "    </tr>\n",
       "    <tr>\n",
       "      <th>1</th>\n",
       "      <td>2</td>\n",
       "      <td>Love The Way You Lie</td>\n",
       "      <td>Eminem</td>\n",
       "      <td>detroit hip hop</td>\n",
       "      <td>2010</td>\n",
       "      <td>87</td>\n",
       "      <td>93</td>\n",
       "      <td>75</td>\n",
       "      <td>-5</td>\n",
       "      <td>52</td>\n",
       "      <td>64</td>\n",
       "      <td>263</td>\n",
       "      <td>24</td>\n",
       "      <td>23</td>\n",
       "      <td>82</td>\n",
       "    </tr>\n",
       "    <tr>\n",
       "      <th>2</th>\n",
       "      <td>3</td>\n",
       "      <td>TiK ToK</td>\n",
       "      <td>Kesha</td>\n",
       "      <td>dance pop</td>\n",
       "      <td>2010</td>\n",
       "      <td>120</td>\n",
       "      <td>84</td>\n",
       "      <td>76</td>\n",
       "      <td>-3</td>\n",
       "      <td>29</td>\n",
       "      <td>71</td>\n",
       "      <td>200</td>\n",
       "      <td>10</td>\n",
       "      <td>14</td>\n",
       "      <td>80</td>\n",
       "    </tr>\n",
       "    <tr>\n",
       "      <th>3</th>\n",
       "      <td>4</td>\n",
       "      <td>Bad Romance</td>\n",
       "      <td>Lady Gaga</td>\n",
       "      <td>dance pop</td>\n",
       "      <td>2010</td>\n",
       "      <td>119</td>\n",
       "      <td>92</td>\n",
       "      <td>70</td>\n",
       "      <td>-4</td>\n",
       "      <td>8</td>\n",
       "      <td>71</td>\n",
       "      <td>295</td>\n",
       "      <td>0</td>\n",
       "      <td>4</td>\n",
       "      <td>79</td>\n",
       "    </tr>\n",
       "    <tr>\n",
       "      <th>4</th>\n",
       "      <td>5</td>\n",
       "      <td>Just the Way You Are</td>\n",
       "      <td>Bruno Mars</td>\n",
       "      <td>pop</td>\n",
       "      <td>2010</td>\n",
       "      <td>109</td>\n",
       "      <td>84</td>\n",
       "      <td>64</td>\n",
       "      <td>-5</td>\n",
       "      <td>9</td>\n",
       "      <td>43</td>\n",
       "      <td>221</td>\n",
       "      <td>2</td>\n",
       "      <td>4</td>\n",
       "      <td>78</td>\n",
       "    </tr>\n",
       "    <tr>\n",
       "      <th>...</th>\n",
       "      <td>...</td>\n",
       "      <td>...</td>\n",
       "      <td>...</td>\n",
       "      <td>...</td>\n",
       "      <td>...</td>\n",
       "      <td>...</td>\n",
       "      <td>...</td>\n",
       "      <td>...</td>\n",
       "      <td>...</td>\n",
       "      <td>...</td>\n",
       "      <td>...</td>\n",
       "      <td>...</td>\n",
       "      <td>...</td>\n",
       "      <td>...</td>\n",
       "      <td>...</td>\n",
       "    </tr>\n",
       "    <tr>\n",
       "      <th>598</th>\n",
       "      <td>599</td>\n",
       "      <td>Find U Again (feat. Camila Cabello)</td>\n",
       "      <td>Mark Ronson</td>\n",
       "      <td>dance pop</td>\n",
       "      <td>2019</td>\n",
       "      <td>104</td>\n",
       "      <td>66</td>\n",
       "      <td>61</td>\n",
       "      <td>-7</td>\n",
       "      <td>20</td>\n",
       "      <td>16</td>\n",
       "      <td>176</td>\n",
       "      <td>1</td>\n",
       "      <td>3</td>\n",
       "      <td>75</td>\n",
       "    </tr>\n",
       "    <tr>\n",
       "      <th>599</th>\n",
       "      <td>600</td>\n",
       "      <td>Cross Me (feat. Chance the Rapper &amp; PnB Rock)</td>\n",
       "      <td>Ed Sheeran</td>\n",
       "      <td>pop</td>\n",
       "      <td>2019</td>\n",
       "      <td>95</td>\n",
       "      <td>79</td>\n",
       "      <td>75</td>\n",
       "      <td>-6</td>\n",
       "      <td>7</td>\n",
       "      <td>61</td>\n",
       "      <td>206</td>\n",
       "      <td>21</td>\n",
       "      <td>12</td>\n",
       "      <td>75</td>\n",
       "    </tr>\n",
       "    <tr>\n",
       "      <th>600</th>\n",
       "      <td>601</td>\n",
       "      <td>No Brainer (feat. Justin Bieber, Chance the Ra...</td>\n",
       "      <td>DJ Khaled</td>\n",
       "      <td>dance pop</td>\n",
       "      <td>2019</td>\n",
       "      <td>136</td>\n",
       "      <td>76</td>\n",
       "      <td>53</td>\n",
       "      <td>-5</td>\n",
       "      <td>9</td>\n",
       "      <td>65</td>\n",
       "      <td>260</td>\n",
       "      <td>7</td>\n",
       "      <td>34</td>\n",
       "      <td>70</td>\n",
       "    </tr>\n",
       "    <tr>\n",
       "      <th>601</th>\n",
       "      <td>602</td>\n",
       "      <td>Nothing Breaks Like a Heart (feat. Miley Cyrus)</td>\n",
       "      <td>Mark Ronson</td>\n",
       "      <td>dance pop</td>\n",
       "      <td>2019</td>\n",
       "      <td>114</td>\n",
       "      <td>79</td>\n",
       "      <td>60</td>\n",
       "      <td>-6</td>\n",
       "      <td>42</td>\n",
       "      <td>24</td>\n",
       "      <td>217</td>\n",
       "      <td>1</td>\n",
       "      <td>7</td>\n",
       "      <td>69</td>\n",
       "    </tr>\n",
       "    <tr>\n",
       "      <th>602</th>\n",
       "      <td>603</td>\n",
       "      <td>Kills You Slowly</td>\n",
       "      <td>The Chainsmokers</td>\n",
       "      <td>electropop</td>\n",
       "      <td>2019</td>\n",
       "      <td>150</td>\n",
       "      <td>44</td>\n",
       "      <td>70</td>\n",
       "      <td>-9</td>\n",
       "      <td>13</td>\n",
       "      <td>23</td>\n",
       "      <td>213</td>\n",
       "      <td>6</td>\n",
       "      <td>6</td>\n",
       "      <td>67</td>\n",
       "    </tr>\n",
       "  </tbody>\n",
       "</table>\n",
       "<p>603 rows × 15 columns</p>\n",
       "</div>"
      ],
      "text/plain": [
       "      ID                                              title            artist  \\\n",
       "0      1                                   Hey, Soul Sister             Train   \n",
       "1      2                               Love The Way You Lie            Eminem   \n",
       "2      3                                            TiK ToK             Kesha   \n",
       "3      4                                        Bad Romance         Lady Gaga   \n",
       "4      5                               Just the Way You Are        Bruno Mars   \n",
       "..   ...                                                ...               ...   \n",
       "598  599                Find U Again (feat. Camila Cabello)       Mark Ronson   \n",
       "599  600      Cross Me (feat. Chance the Rapper & PnB Rock)        Ed Sheeran   \n",
       "600  601  No Brainer (feat. Justin Bieber, Chance the Ra...         DJ Khaled   \n",
       "601  602    Nothing Breaks Like a Heart (feat. Miley Cyrus)       Mark Ronson   \n",
       "602  603                                   Kills You Slowly  The Chainsmokers   \n",
       "\n",
       "           top genre  year  bpm  energy  danceability  dB  live  val  \\\n",
       "0         neo mellow  2010   97      89            67  -4     8   80   \n",
       "1    detroit hip hop  2010   87      93            75  -5    52   64   \n",
       "2          dance pop  2010  120      84            76  -3    29   71   \n",
       "3          dance pop  2010  119      92            70  -4     8   71   \n",
       "4                pop  2010  109      84            64  -5     9   43   \n",
       "..               ...   ...  ...     ...           ...  ..   ...  ...   \n",
       "598        dance pop  2019  104      66            61  -7    20   16   \n",
       "599              pop  2019   95      79            75  -6     7   61   \n",
       "600        dance pop  2019  136      76            53  -5     9   65   \n",
       "601        dance pop  2019  114      79            60  -6    42   24   \n",
       "602       electropop  2019  150      44            70  -9    13   23   \n",
       "\n",
       "     duration  acous  spch  popularity  \n",
       "0         217     19     4          83  \n",
       "1         263     24    23          82  \n",
       "2         200     10    14          80  \n",
       "3         295      0     4          79  \n",
       "4         221      2     4          78  \n",
       "..        ...    ...   ...         ...  \n",
       "598       176      1     3          75  \n",
       "599       206     21    12          75  \n",
       "600       260      7    34          70  \n",
       "601       217      1     7          69  \n",
       "602       213      6     6          67  \n",
       "\n",
       "[603 rows x 15 columns]"
      ]
     },

     "execution_count": 228,
     "metadata": {},
     "output_type": "execute_result"
    }
   ],
   "source": [
    "# import csv\n",
    "popular_df = pd.read_csv(\"data/popular_data2.csv\",encoding=\"utf-8\")\n",
    "\n",
    "\n",
    "\n",
    "popular_df.rename(columns = {\"Unnamed: 0\": 'ID',\"nrgy\":\"energy\",\"dnce\":\"danceability\", \"dur\":\"duration\", \"pop\": \"popularity\"}, inplace = True)\n",
    "#popular_df.set_index(\"ID\")\n",

    "popular_df\n",
    "#popular_df.loc[popular_df[\"artist\"] ==\"Drake\"]\n",
    "\n"

   ]
  },
  {
   "cell_type": "code",

   "execution_count": 229,

   "metadata": {},
   "outputs": [
    {
     "data": {
      "text/plain": [
       "ID               int64\n",
       "title           object\n",
       "artist          object\n",
       "top genre       object\n",
       "year             int64\n",
       "bpm              int64\n",
       "energy           int64\n",
       "danceability     int64\n",
       "dB               int64\n",
       "live             int64\n",
       "val              int64\n",
       "duration         int64\n",
       "acous            int64\n",
       "spch             int64\n",
       "popularity       int64\n",
       "dtype: object"
      ]
     },

     "execution_count": 229,

     "metadata": {},
     "output_type": "execute_result"
    }
   ],
   "source": [
    "popular_df.dtypes"
   ]
  },
  {
   "cell_type": "code",

   "execution_count": 230,

   "metadata": {},
   "outputs": [
    {
     "data": {
      "text/html": [
       "<div>\n",
       "<style scoped>\n",
       "    .dataframe tbody tr th:only-of-type {\n",
       "        vertical-align: middle;\n",
       "    }\n",
       "\n",
       "    .dataframe tbody tr th {\n",
       "        vertical-align: top;\n",
       "    }\n",
       "\n",
       "    .dataframe thead th {\n",
       "        text-align: right;\n",
       "    }\n",
       "</style>\n",
       "<table border=\"1\" class=\"dataframe\">\n",
       "  <thead>\n",
       "    <tr style=\"text-align: right;\">\n",
       "      <th></th>\n",
       "      <th>ID</th>\n",
       "      <th>title</th>\n",
       "      <th>artist</th>\n",
       "      <th>top genre</th>\n",
       "      <th>year</th>\n",
       "      <th>bpm</th>\n",
       "      <th>energy</th>\n",
       "      <th>danceability</th>\n",
       "      <th>dB</th>\n",
       "      <th>live</th>\n",
       "      <th>val</th>\n",
       "      <th>duration</th>\n",
       "      <th>acous</th>\n",
       "      <th>spch</th>\n",
       "      <th>popularity</th>\n",
       "    </tr>\n",
       "  </thead>\n",
       "  <tbody>\n",
       "    <tr>\n",

       "      <th>443</th>\n",
       "      <td>444</td>\n",
       "      <td>Shape of You</td>\n",
       "      <td>Ed Sheeran</td>\n",
       "      <td>pop</td>\n",
       "      <td>2017</td>\n",
       "      <td>96</td>\n",
       "      <td>65</td>\n",
       "      <td>83</td>\n",
       "      <td>-3</td>\n",
       "      <td>9</td>\n",
       "      <td>93</td>\n",
       "      <td>234</td>\n",
       "      <td>58</td>\n",
       "      <td>8</td>\n",
       "      <td>87</td>\n",
       "    </tr>\n",
       "    <tr>\n",
       "      <th>444</th>\n",
       "      <td>445</td>\n",
       "      <td>Closer</td>\n",
       "      <td>The Chainsmokers</td>\n",
       "      <td>electropop</td>\n",
       "      <td>2017</td>\n",
       "      <td>95</td>\n",
       "      <td>52</td>\n",
       "      <td>75</td>\n",
       "      <td>-6</td>\n",
       "      <td>11</td>\n",
       "      <td>66</td>\n",
       "      <td>245</td>\n",
       "      <td>41</td>\n",
       "      <td>3</td>\n",
       "      <td>86</td>\n",
       "    </tr>\n",
       "    <tr>\n",
       "      <th>445</th>\n",
       "      <td>446</td>\n",
       "      <td>Starboy</td>\n",
       "      <td>The Weeknd</td>\n",
       "      <td>canadian contemporary r&amp;b</td>\n",
       "      <td>2017</td>\n",
       "      <td>186</td>\n",
       "      <td>59</td>\n",
       "      <td>68</td>\n",
       "      <td>-7</td>\n",
       "      <td>14</td>\n",
       "      <td>49</td>\n",
       "      <td>230</td>\n",
       "      <td>14</td>\n",
       "      <td>28</td>\n",
       "      <td>85</td>\n",
       "    </tr>\n",
       "    <tr>\n",
       "      <th>446</th>\n",
       "      <td>447</td>\n",
       "      <td>Treat You Better</td>\n",
       "      <td>Shawn Mendes</td>\n",
       "      <td>canadian pop</td>\n",
       "      <td>2017</td>\n",
       "      <td>83</td>\n",
       "      <td>82</td>\n",
       "      <td>44</td>\n",
       "      <td>-4</td>\n",
       "      <td>11</td>\n",
       "      <td>75</td>\n",
       "      <td>188</td>\n",
       "      <td>11</td>\n",
       "      <td>34</td>\n",
       "      <td>84</td>\n",
       "    </tr>\n",
       "    <tr>\n",
       "      <th>447</th>\n",
       "      <td>448</td>\n",
       "      <td>That's What I Like</td>\n",
       "      <td>Bruno Mars</td>\n",
       "      <td>pop</td>\n",
       "      <td>2017</td>\n",
       "      <td>134</td>\n",
       "      <td>56</td>\n",
       "      <td>85</td>\n",
       "      <td>-5</td>\n",
       "      <td>9</td>\n",
       "      <td>86</td>\n",
       "      <td>207</td>\n",
       "      <td>1</td>\n",
       "      <td>4</td>\n",
       "      <td>83</td>\n",

       "    </tr>\n",
       "    <tr>\n",
       "      <th>...</th>\n",
       "      <td>...</td>\n",
       "      <td>...</td>\n",
       "      <td>...</td>\n",
       "      <td>...</td>\n",
       "      <td>...</td>\n",
       "      <td>...</td>\n",
       "      <td>...</td>\n",
       "      <td>...</td>\n",
       "      <td>...</td>\n",
       "      <td>...</td>\n",
       "      <td>...</td>\n",
       "      <td>...</td>\n",
       "      <td>...</td>\n",
       "      <td>...</td>\n",
       "      <td>...</td>\n",
       "    </tr>\n",
       "    <tr>\n",
       "      <th>598</th>\n",
       "      <td>599</td>\n",
       "      <td>Find U Again (feat. Camila Cabello)</td>\n",
       "      <td>Mark Ronson</td>\n",
       "      <td>dance pop</td>\n",
       "      <td>2019</td>\n",
       "      <td>104</td>\n",
       "      <td>66</td>\n",
       "      <td>61</td>\n",
       "      <td>-7</td>\n",
       "      <td>20</td>\n",
       "      <td>16</td>\n",
       "      <td>176</td>\n",
       "      <td>1</td>\n",
       "      <td>3</td>\n",
       "      <td>75</td>\n",
       "    </tr>\n",
       "    <tr>\n",
       "      <th>599</th>\n",
       "      <td>600</td>\n",
       "      <td>Cross Me (feat. Chance the Rapper &amp; PnB Rock)</td>\n",
       "      <td>Ed Sheeran</td>\n",
       "      <td>pop</td>\n",
       "      <td>2019</td>\n",
       "      <td>95</td>\n",
       "      <td>79</td>\n",
       "      <td>75</td>\n",
       "      <td>-6</td>\n",
       "      <td>7</td>\n",
       "      <td>61</td>\n",
       "      <td>206</td>\n",
       "      <td>21</td>\n",
       "      <td>12</td>\n",
       "      <td>75</td>\n",
       "    </tr>\n",
       "    <tr>\n",
       "      <th>600</th>\n",
       "      <td>601</td>\n",
       "      <td>No Brainer (feat. Justin Bieber, Chance the Ra...</td>\n",
       "      <td>DJ Khaled</td>\n",
       "      <td>dance pop</td>\n",
       "      <td>2019</td>\n",
       "      <td>136</td>\n",
       "      <td>76</td>\n",
       "      <td>53</td>\n",
       "      <td>-5</td>\n",
       "      <td>9</td>\n",
       "      <td>65</td>\n",
       "      <td>260</td>\n",
       "      <td>7</td>\n",
       "      <td>34</td>\n",
       "      <td>70</td>\n",
       "    </tr>\n",
       "    <tr>\n",
       "      <th>601</th>\n",
       "      <td>602</td>\n",
       "      <td>Nothing Breaks Like a Heart (feat. Miley Cyrus)</td>\n",
       "      <td>Mark Ronson</td>\n",
       "      <td>dance pop</td>\n",
       "      <td>2019</td>\n",
       "      <td>114</td>\n",
       "      <td>79</td>\n",
       "      <td>60</td>\n",
       "      <td>-6</td>\n",
       "      <td>42</td>\n",
       "      <td>24</td>\n",
       "      <td>217</td>\n",
       "      <td>1</td>\n",
       "      <td>7</td>\n",
       "      <td>69</td>\n",
       "    </tr>\n",
       "    <tr>\n",
       "      <th>602</th>\n",
       "      <td>603</td>\n",
       "      <td>Kills You Slowly</td>\n",
       "      <td>The Chainsmokers</td>\n",
       "      <td>electropop</td>\n",
       "      <td>2019</td>\n",
       "      <td>150</td>\n",
       "      <td>44</td>\n",
       "      <td>70</td>\n",
       "      <td>-9</td>\n",
       "      <td>13</td>\n",
       "      <td>23</td>\n",
       "      <td>213</td>\n",
       "      <td>6</td>\n",
       "      <td>6</td>\n",
       "      <td>67</td>\n",
       "    </tr>\n",
       "  </tbody>\n",
       "</table>\n",

       "<p>160 rows × 15 columns</p>\n",
       "</div>"
      ],
      "text/plain": [
       "      ID                                              title            artist  \\\n",

       "443  444                                       Shape of You        Ed Sheeran   \n",
       "444  445                                             Closer  The Chainsmokers   \n",
       "445  446                                            Starboy        The Weeknd   \n",
       "446  447                                   Treat You Better      Shawn Mendes   \n",
       "447  448                                 That's What I Like        Bruno Mars   \n",

       "..   ...                                                ...               ...   \n",
       "598  599                Find U Again (feat. Camila Cabello)       Mark Ronson   \n",
       "599  600      Cross Me (feat. Chance the Rapper & PnB Rock)        Ed Sheeran   \n",
       "600  601  No Brainer (feat. Justin Bieber, Chance the Ra...         DJ Khaled   \n",
       "601  602    Nothing Breaks Like a Heart (feat. Miley Cyrus)       Mark Ronson   \n",
       "602  603                                   Kills You Slowly  The Chainsmokers   \n",
       "\n",
       "                     top genre  year  bpm  energy  danceability  dB  live  \\\n",

       "443                        pop  2017   96      65            83  -3     9   \n",
       "444                 electropop  2017   95      52            75  -6    11   \n",
       "445  canadian contemporary r&b  2017  186      59            68  -7    14   \n",
       "446               canadian pop  2017   83      82            44  -4    11   \n",
       "447                        pop  2017  134      56            85  -5     9   \n",

       "..                         ...   ...  ...     ...           ...  ..   ...   \n",
       "598                  dance pop  2019  104      66            61  -7    20   \n",
       "599                        pop  2019   95      79            75  -6     7   \n",
       "600                  dance pop  2019  136      76            53  -5     9   \n",
       "601                  dance pop  2019  114      79            60  -6    42   \n",
       "602                 electropop  2019  150      44            70  -9    13   \n",
       "\n",
       "     val  duration  acous  spch  popularity  \n",

       "443   93       234     58     8          87  \n",
       "444   66       245     41     3          86  \n",
       "445   49       230     14    28          85  \n",
       "446   75       188     11    34          84  \n",
       "447   86       207      1     4          83  \n",

       "..   ...       ...    ...   ...         ...  \n",
       "598   16       176      1     3          75  \n",
       "599   61       206     21    12          75  \n",
       "600   65       260      7    34          70  \n",
       "601   24       217      1     7          69  \n",
       "602   23       213      6     6          67  \n",
       "\n",

       "[160 rows x 15 columns]"
      ]
     },
     "execution_count": 230,

     "metadata": {},
     "output_type": "execute_result"
    }
   ],
   "source": [

    "popular_yr = popular_df.loc[popular_df[\"year\"] >= 2017]\n",

    "popular_yr"
   ]
  },
  {
   "cell_type": "code",

   "execution_count": 231,

   "metadata": {},
   "outputs": [
    {
     "data": {
      "text/plain": [

       "dance pop                    76\n",
       "pop                          23\n",
       "canadian pop                  9\n",
       "electropop                    8\n",
       "edm                           5\n",
       "art pop                       3\n",
       "boy band                      3\n",
       "latin                         3\n",
       "canadian contemporary r&b     3\n",
       "big room                      3\n",
       "Name: top genre, dtype: int64"
      ]
     },
     "execution_count": 231,

     "metadata": {},
     "output_type": "execute_result"
    }
   ],
   "source": [
    "genre = popular_yr[\"top genre\"].value_counts()\n",
    "genre\n",
    "\n",
    "\n",
    "top_10 = genre.iloc[0:10]\n",
    "top_10\n",
    "    \n",
    "    "
   ]
  },
  {
   "cell_type": "code",

   "execution_count": 232,

   "metadata": {},
   "outputs": [
    {
     "data": {

      "image/png": "[encoded data removed]",

      "text/plain": [
       "<Figure size 432x288 with 1 Axes>"
      ]
     },
     "metadata": {
      "needs_background": "light"
     },
     "output_type": "display_data"

    }
   ],
   "source": [
    "top_10.plot(kind = \"barh\", facecolor = \"green\", title = \"Top 10 genres (2017 - 2019)\") \n",
    "plt.xlabel(\"Appeared on Billboard (count)\")\n",
    "plt.ylabel(\"Genres\")\n",
    "#plt.tight_layout()\n",
    "plt.savefig('data/top_genres.png', bbox_inches = \"tight\")\n",
    "plt.show()\n",
    "\n"

   ]
  },
  {
   "cell_type": "code",

   "execution_count": 233,
   "metadata": {},
   "outputs": [
    {
     "data": {
      "text/plain": [
       "Shawn Mendes        7\n",
       "The Chainsmokers    7\n",
       "Ed Sheeran          7\n",
       "Maroon 5            5\n",
       "DNCE                4\n",
       "Kygo                4\n",
       "Calvin Harris       4\n",
       "Cardi B             3\n",
       "Camila Cabello      3\n",
       "Liam Payne          3\n",
       "Name: artist, dtype: int64"
      ]
     },
     "execution_count": 233,
     "metadata": {},
     "output_type": "execute_result"
    }
   ],
   "source": [
    "artist = popular_yr[\"artist\"].value_counts()\n",
    "top_artist = artist.iloc[0:10]\n",
    "top_artist"

   ]
  },
  {
   "cell_type": "code",

   "execution_count": 234,

   "metadata": {},
   "outputs": [
    {
     "data": {

      "image/png": "[encoded data removed]",

      "text/plain": [
       "<Figure size 432x288 with 1 Axes>"
      ]
     },
     "metadata": {
      "needs_background": "light"
     },
     "output_type": "display_data"

    }
   ],
   "source": [
    "top_artist.plot(kind = \"barh\", facecolor = \"green\", title = \"Top 10 artists (2017 - 2019)\") \n",
    "plt.xlabel(\"Appeared on Billboard (count) \")\n",
    "plt.ylabel(\"Artists\")\n",
    "plt.savefig('data/top_artists.png', bbox_inches = \"tight\")\n",
    "plt.show()\n",
    "#plt.tight_layout()\n"

   ]
  },
  {
   "cell_type": "code",

   "execution_count": 235,

   "metadata": {},
   "outputs": [
    {
     "data": {
      "text/plain": [

       "Kissing Strangers                        2\n",
       "First Time                               2\n",
       "We Don't Talk Anymore - DROELOE Remix    1\n",
       "Let Me                                   1\n",
       "Lust for Life (with The Weeknd)          1\n",
       "                                        ..\n",
       "Never Be the Same - Radio Edit           1\n",
       "Tired                                    1\n",
       "Friends (with BloodPop®)                 1\n",
       "Love On The Brain                        1\n",
       "Capital Letters                          1\n",
       "Name: title, Length: 158, dtype: int64"
      ]
     },
     "execution_count": 235,

     "metadata": {},
     "output_type": "execute_result"
    }
   ],
   "source": [
    "song = popular_yr[\"title\"].value_counts()\n",
    "song"
   ]
  },
  {
   "cell_type": "code",

   "execution_count": 236,

   "metadata": {},
   "outputs": [
    {
     "data": {
      "text/html": [
       "<div>\n",
       "<style scoped>\n",
       "    .dataframe tbody tr th:only-of-type {\n",
       "        vertical-align: middle;\n",
       "    }\n",
       "\n",
       "    .dataframe tbody tr th {\n",
       "        vertical-align: top;\n",
       "    }\n",
       "\n",
       "    .dataframe thead th {\n",
       "        text-align: right;\n",
       "    }\n",
       "</style>\n",
       "<table border=\"1\" class=\"dataframe\">\n",
       "  <thead>\n",
       "    <tr style=\"text-align: right;\">\n",
       "      <th></th>\n",
       "      <th>ID</th>\n",
       "      <th>title</th>\n",
       "      <th>artist</th>\n",
       "      <th>top genre</th>\n",
       "      <th>year</th>\n",
       "      <th>bpm</th>\n",
       "      <th>energy</th>\n",
       "      <th>danceability</th>\n",
       "      <th>dB</th>\n",
       "      <th>live</th>\n",
       "      <th>val</th>\n",
       "      <th>duration</th>\n",
       "      <th>acous</th>\n",
       "      <th>spch</th>\n",
       "      <th>popularity</th>\n",
       "    </tr>\n",
       "  </thead>\n",
       "  <tbody>\n",
       "    <tr>\n",

       "      <th>477</th>\n",
       "      <td>478</td>\n",
       "      <td>Bodak Yellow</td>\n",
       "      <td>Cardi B</td>\n",
       "      <td>pop</td>\n",
       "      <td>2017</td>\n",
       "      <td>125</td>\n",
       "      <td>72</td>\n",
       "      <td>93</td>\n",
       "      <td>-6</td>\n",
       "      <td>35</td>\n",
       "      <td>46</td>\n",
       "      <td>224</td>\n",
       "      <td>7</td>\n",
       "      <td>11</td>\n",
       "      <td>70</td>\n",
       "    </tr>\n",
       "    <tr>\n",
       "      <th>510</th>\n",
       "      <td>511</td>\n",
       "      <td>I Like It</td>\n",
       "      <td>Cardi B</td>\n",
       "      <td>pop</td>\n",
       "      <td>2018</td>\n",
       "      <td>136</td>\n",
       "      <td>73</td>\n",
       "      <td>82</td>\n",
       "      <td>-4</td>\n",
       "      <td>37</td>\n",
       "      <td>65</td>\n",
       "      <td>253</td>\n",
       "      <td>10</td>\n",
       "      <td>13</td>\n",
       "      <td>85</td>\n",
       "    </tr>\n",
       "    <tr>\n",
       "      <th>570</th>\n",
       "      <td>571</td>\n",
       "      <td>Drip (feat. Migos)</td>\n",
       "      <td>Cardi B</td>\n",
       "      <td>pop</td>\n",
       "      <td>2018</td>\n",
       "      <td>130</td>\n",
       "      <td>59</td>\n",
       "      <td>97</td>\n",
       "      <td>-8</td>\n",
       "      <td>8</td>\n",
       "      <td>27</td>\n",
       "      <td>264</td>\n",
       "      <td>5</td>\n",
       "      <td>26</td>\n",
       "      <td>45</td>\n",

       "    </tr>\n",
       "  </tbody>\n",
       "</table>\n",
       "</div>"
      ],
      "text/plain": [

       "      ID               title   artist top genre  year  bpm  energy  \\\n",
       "477  478        Bodak Yellow  Cardi B       pop  2017  125      72   \n",
       "510  511           I Like It  Cardi B       pop  2018  136      73   \n",
       "570  571  Drip (feat. Migos)  Cardi B       pop  2018  130      59   \n",
       "\n",
       "     danceability  dB  live  val  duration  acous  spch  popularity  \n",
       "477            93  -6    35   46       224      7    11          70  \n",
       "510            82  -4    37   65       253     10    13          85  \n",
       "570            97  -8     8   27       264      5    26          45  "
      ]
     },
     "execution_count": 236,
     "metadata": {},
     "output_type": "execute_result"
    }
   ],
   "source": [
    "s = popular_df.loc[popular_df[\"artist\"] == \"Cardi B\"]\n",
    "s\n"
   ]
  },
  {
   "cell_type": "code",
   "execution_count": 237,
   "metadata": {},
   "outputs": [],
   "source": [
    "#art_gen = pd.merge(top_artist,popular_yr, on = (\"artist\"), how = \"left\")\n",
    "#art_gen\n",
    "popular_yr\n",
    "#top_artist = []\n",
    "art_gen = popular_yr.loc[popular_yr[\"artist\"].isin(top_artist.index.values)] \n",
    "#art_gen\n"
   ]
  },
  {
   "cell_type": "code",
   "execution_count": 238,
   "metadata": {},
   "outputs": [
    {
     "data": {
      "text/plain": [
       "pop             15\n",
       "dance pop       14\n",
       "canadian pop     7\n",
       "electropop       7\n",
       "edm              4\n",
       "Name: top genre, dtype: int64"
      ]
     },
     "execution_count": 238,

     "metadata": {},
     "output_type": "execute_result"
    }
   ],
   "source": [

    "top_art_gen = art_gen[\"top genre\"].value_counts()\n",
    "top_art_gen"
   ]
  },
  {
   "cell_type": "code",
   "execution_count": 239,
   "metadata": {},
   "outputs": [
    {
     "data": {
      "image/png": "[encoded data removed]",
      "text/plain": [
       "<Figure size 432x288 with 1 Axes>"
      ]
     },
     "metadata": {
      "needs_background": "light"
     },
     "output_type": "display_data"
    }
   ],
   "source": [
    "top_art_gen.plot(kind = \"barh\", facecolor = \"green\", title = \"Top Genres - Top 10 artists (2017 - 2019)\") \n",
    "plt.xlabel(\"Appeared on Billboard (count) \")\n",
    "plt.ylabel(\"Genres\")\n",
    "plt.savefig('data/top_gen_art.png', bbox_inches = \"tight\")\n",
    "plt.show()\n",
    "#plt.tight_layout()\n"

   ]
  },
  {
   "cell_type": "code",
   "execution_count": null,
   "metadata": {},
   "outputs": [],
   "source": []
  }
 ],
 "metadata": {
  "kernelspec": {
   "display_name": "Python [conda env:PythonData] *",
   "language": "python",
   "name": "conda-env-PythonData-py"
  },
  "language_info": {
   "codemirror_mode": {
    "name": "ipython",
    "version": 3
   },
   "file_extension": ".py",
   "mimetype": "text/x-python",
   "name": "python",
   "nbconvert_exporter": "python",
   "pygments_lexer": "ipython3",
   "version": "3.6.10"
  }
 },
 "nbformat": 4,
 "nbformat_minor": 4
}
