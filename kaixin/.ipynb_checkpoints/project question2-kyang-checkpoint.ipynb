{
 "cells": [
  {
   "cell_type": "markdown",
   "metadata": {},
   "source": [
    "## Part 2: Analyze the most popular songs and artists throughout the year of 2017-2021 ( date, popularity, streams, genres, artist, track name---top 200 songs(streams) in the US, past 5 years) - Connor/Kaixin\n",
    "\n"
   ]
  },
  {
   "cell_type": "markdown",
   "metadata": {},
   "source": []
  },
  {
   "cell_type": "code",
   "execution_count": 57,
   "metadata": {},
   "outputs": [],
   "source": [
    "%matplotlib notebook\n",
    "\n",
    "# Dependencies and Setup\n",
    "import matplotlib.pyplot as plt\n",
    "import pandas as pd\n",
    "import scipy.stats as st\n",
    "import numpy as np\n",
    "from pandas.io.json import json_normalize\n",
    "\n",
    "# Read the data and the study results\n",
    "Top200songs_df_path = \"Resources/Top200songs.csv\"\n",
    "Top200songs_df = pd.read_csv(Top200songs_df_path)\n",
    "Top200songs_df.head(20)\n",
    "\n",
    "# Create a new dataframe that only contains data of U.S.\n",
    "Top200songs_US = Top200songs_df[Top200songs_df['name'] == \"United States\"]\n",
    "Top200songs_US.head(20)\n",
    "\n",
    "#Clean the data: Remove the rows with missing data\n",
    "Top200songs_US = Top200songs_US.dropna(how = \"any\")\n",
    "Top200songs_US.count()\n",
    "\n",
    "#Remove the redundant index column(Delete the first and second column)\n",
    "Top200songs_US = Top200songs_US.drop(labels='Position',axis=1)\n",
    "\n",
    "#Sort the table by most popular songs and export the resulting table to a new csv\n",
    "Top200songs_US = Top200songs_US.sort_values([\"Streams\"], ascending = False)\n",
    "Top200songs_US.to_csv(\"Resources/Top200songs_US.csv\", index = False)\n"
   ]
  },
  {
   "cell_type": "code",
   "execution_count": 58,
   "metadata": {},
   "outputs": [
    {
     "name": "stdout",
     "output_type": "stream",
     "text": [
      "<class 'pandas.core.frame.DataFrame'>\n",
      "Int64Index: 177996 entries, 2995799 to 23587\n",
      "Data columns (total 7 columns):\n",
      " #   Column      Non-Null Count   Dtype \n",
      "---  ------      --------------   ----- \n",
      " 0   Track Name  177996 non-null  object\n",
      " 1   Artist      177996 non-null  object\n",
      " 2   Streams     177996 non-null  int64 \n",
      " 3   URL         177996 non-null  object\n",
      " 4   Date        177996 non-null  object\n",
      " 5   code        177996 non-null  object\n",
      " 6   name        177996 non-null  object\n",
      "dtypes: int64(1), object(6)\n",
      "memory usage: 10.9+ MB\n"
     ]
    }
   ],
   "source": [
    "#Before we begin manipulating our data, we should get a better idea of what our dataset contains. The ‘.info()’ method is a helpful as a tool to get summary information on our data.\n",
    "Top200songs_US.info()\n"
   ]
  },
  {
   "cell_type": "code",
   "execution_count": 88,
   "metadata": {},
   "outputs": [
    {
     "data": {
      "text/html": [
       "<div>\n",
       "<style scoped>\n",
       "    .dataframe tbody tr th:only-of-type {\n",
       "        vertical-align: middle;\n",
       "    }\n",
       "\n",
       "    .dataframe tbody tr th {\n",
       "        vertical-align: top;\n",
       "    }\n",
       "\n",
       "    .dataframe thead th {\n",
       "        text-align: right;\n",
       "    }\n",
       "</style>\n",
       "<table border=\"1\" class=\"dataframe\">\n",
       "  <thead>\n",
       "    <tr style=\"text-align: right;\">\n",
       "      <th></th>\n",
       "      <th>Track Name</th>\n",
       "      <th>Artist</th>\n",
       "      <th>Streams</th>\n",
       "    </tr>\n",
       "  </thead>\n",
       "  <tbody>\n",
       "    <tr>\n",
       "      <th>2995799</th>\n",
       "      <td>Nonstop</td>\n",
       "      <td>Drake</td>\n",
       "      <td>5749019</td>\n",
       "    </tr>\n",
       "    <tr>\n",
       "      <th>9052817</th>\n",
       "      <td>drivers license</td>\n",
       "      <td>Olivia Rodrigo</td>\n",
       "      <td>5723851</td>\n",
       "    </tr>\n",
       "    <tr>\n",
       "      <th>2995800</th>\n",
       "      <td>Survival</td>\n",
       "      <td>Drake</td>\n",
       "      <td>5219711</td>\n",
       "    </tr>\n",
       "    <tr>\n",
       "      <th>2995801</th>\n",
       "      <td>Emotionless</td>\n",
       "      <td>Drake</td>\n",
       "      <td>4842941</td>\n",
       "    </tr>\n",
       "    <tr>\n",
       "      <th>2084978</th>\n",
       "      <td>God's Plan</td>\n",
       "      <td>Drake</td>\n",
       "      <td>4739798</td>\n",
       "    </tr>\n",
       "    <tr>\n",
       "      <th>2995802</th>\n",
       "      <td>Elevate</td>\n",
       "      <td>Drake</td>\n",
       "      <td>4686139</td>\n",
       "    </tr>\n",
       "    <tr>\n",
       "      <th>3549746</th>\n",
       "      <td>Mona Lisa (feat. Kendrick Lamar)</td>\n",
       "      <td>Lil Wayne</td>\n",
       "      <td>4444027</td>\n",
       "    </tr>\n",
       "    <tr>\n",
       "      <th>2919021</th>\n",
       "      <td>SAD!</td>\n",
       "      <td>XXXTENTACION</td>\n",
       "      <td>4437612</td>\n",
       "    </tr>\n",
       "    <tr>\n",
       "      <th>3213349</th>\n",
       "      <td>STARGAZING</td>\n",
       "      <td>Travis Scott</td>\n",
       "      <td>4244308</td>\n",
       "    </tr>\n",
       "    <tr>\n",
       "      <th>2559697</th>\n",
       "      <td>KOD</td>\n",
       "      <td>J. Cole</td>\n",
       "      <td>4233070</td>\n",
       "    </tr>\n",
       "  </tbody>\n",
       "</table>\n",
       "</div>"
      ],
      "text/plain": [
       "                               Track Name          Artist  Streams\n",
       "2995799                           Nonstop           Drake  5749019\n",
       "9052817                   drivers license  Olivia Rodrigo  5723851\n",
       "2995800                          Survival           Drake  5219711\n",
       "2995801                       Emotionless           Drake  4842941\n",
       "2084978                        God's Plan           Drake  4739798\n",
       "2995802                           Elevate           Drake  4686139\n",
       "3549746  Mona Lisa (feat. Kendrick Lamar)       Lil Wayne  4444027\n",
       "2919021                              SAD!    XXXTENTACION  4437612\n",
       "3213349                        STARGAZING    Travis Scott  4244308\n",
       "2559697                               KOD         J. Cole  4233070"
      ]
     },
     "execution_count": 88,
     "metadata": {},
     "output_type": "execute_result"
    }
   ],
   "source": [
    "#Get rid of unuseful data.\n",
    "artist_groups = Top200songs_US.drop(['URL','Date','code','name'],axis = 1)\n",
    "artist_groups.head(20)\n",
    "\n",
    "#Removed duplicate rows because there are many dupliceted track name.\n",
    "artist_groups = artist_groups.drop_duplicates(subset=['Track Name', 'Artist'], keep='first')\n",
    "\n",
    "#The most-streamed songs (Top 10) from 01/2017-04/2021\n",
    "artist_groups.head(10)\n"
   ]
  },
  {
   "cell_type": "code",
   "execution_count": null,
   "metadata": {},
   "outputs": [],
   "source": [
    "# Create a bar chart based on the group series from before\n",
    "count_chart = artist_groups.plot(kind='bar')\n",
    "\n",
    "# Set the xlabel and ylabel using class methods\n",
    "count_chart.set_xlabel(\"Track Name\")\n",
    "count_chart.set_ylabel(\"Streams\")\n",
    "\n",
    "\n",
    "plt.show(10)\n",
    "plt.tight_layout(10)"
   ]
  },
  {
   "cell_type": "code",
   "execution_count": 81,
   "metadata": {},
   "outputs": [
    {
     "ename": "AttributeError",
     "evalue": "'DataFrame' object has no attribute 'countplot'",
     "output_type": "error",
     "traceback": [
      "\u001b[0;31m---------------------------------------------------------------------------\u001b[0m",
      "\u001b[0;31mAttributeError\u001b[0m                            Traceback (most recent call last)",
      "\u001b[0;32m<ipython-input-81-3c812e0c45b6>\u001b[0m in \u001b[0;36m<module>\u001b[0;34m\u001b[0m\n\u001b[1;32m      1\u001b[0m \u001b[0;31m# Most-Streamed artist over the past 5 years\u001b[0m\u001b[0;34m\u001b[0m\u001b[0;34m\u001b[0m\u001b[0;34m\u001b[0m\u001b[0m\n\u001b[1;32m      2\u001b[0m \u001b[0mdescending_order\u001b[0m \u001b[0;34m=\u001b[0m \u001b[0martist_groups\u001b[0m\u001b[0;34m[\u001b[0m\u001b[0;34m'Artist'\u001b[0m\u001b[0;34m]\u001b[0m\u001b[0;34m.\u001b[0m\u001b[0mvalue_counts\u001b[0m\u001b[0;34m(\u001b[0m\u001b[0;34m)\u001b[0m\u001b[0;34m.\u001b[0m\u001b[0msort_values\u001b[0m\u001b[0;34m(\u001b[0m\u001b[0mascending\u001b[0m\u001b[0;34m=\u001b[0m\u001b[0;32mFalse\u001b[0m\u001b[0;34m)\u001b[0m\u001b[0;34m.\u001b[0m\u001b[0mindex\u001b[0m\u001b[0;34m\u001b[0m\u001b[0;34m\u001b[0m\u001b[0m\n\u001b[0;32m----> 3\u001b[0;31m \u001b[0max\u001b[0m \u001b[0;34m=\u001b[0m \u001b[0martist_groups\u001b[0m\u001b[0;34m.\u001b[0m\u001b[0mcountplot\u001b[0m\u001b[0;34m(\u001b[0m\u001b[0my\u001b[0m \u001b[0;34m=\u001b[0m \u001b[0martist_groups\u001b[0m\u001b[0;34m[\u001b[0m\u001b[0;34m'Artist'\u001b[0m\u001b[0;34m]\u001b[0m\u001b[0;34m,\u001b[0m \u001b[0morder\u001b[0m\u001b[0;34m=\u001b[0m\u001b[0mdescending_order\u001b[0m\u001b[0;34m)\u001b[0m\u001b[0;34m\u001b[0m\u001b[0;34m\u001b[0m\u001b[0m\n\u001b[0m\u001b[1;32m      4\u001b[0m \u001b[0;34m\u001b[0m\u001b[0m\n",
      "\u001b[0;32m~/opt/anaconda3/envs/py36/lib/python3.6/site-packages/pandas/core/generic.py\u001b[0m in \u001b[0;36m__getattr__\u001b[0;34m(self, name)\u001b[0m\n\u001b[1;32m   5137\u001b[0m             \u001b[0;32mif\u001b[0m \u001b[0mself\u001b[0m\u001b[0;34m.\u001b[0m\u001b[0m_info_axis\u001b[0m\u001b[0;34m.\u001b[0m\u001b[0m_can_hold_identifiers_and_holds_name\u001b[0m\u001b[0;34m(\u001b[0m\u001b[0mname\u001b[0m\u001b[0;34m)\u001b[0m\u001b[0;34m:\u001b[0m\u001b[0;34m\u001b[0m\u001b[0;34m\u001b[0m\u001b[0m\n\u001b[1;32m   5138\u001b[0m                 \u001b[0;32mreturn\u001b[0m \u001b[0mself\u001b[0m\u001b[0;34m[\u001b[0m\u001b[0mname\u001b[0m\u001b[0;34m]\u001b[0m\u001b[0;34m\u001b[0m\u001b[0;34m\u001b[0m\u001b[0m\n\u001b[0;32m-> 5139\u001b[0;31m             \u001b[0;32mreturn\u001b[0m \u001b[0mobject\u001b[0m\u001b[0;34m.\u001b[0m\u001b[0m__getattribute__\u001b[0m\u001b[0;34m(\u001b[0m\u001b[0mself\u001b[0m\u001b[0;34m,\u001b[0m \u001b[0mname\u001b[0m\u001b[0;34m)\u001b[0m\u001b[0;34m\u001b[0m\u001b[0;34m\u001b[0m\u001b[0m\n\u001b[0m\u001b[1;32m   5140\u001b[0m \u001b[0;34m\u001b[0m\u001b[0m\n\u001b[1;32m   5141\u001b[0m     \u001b[0;32mdef\u001b[0m \u001b[0m__setattr__\u001b[0m\u001b[0;34m(\u001b[0m\u001b[0mself\u001b[0m\u001b[0;34m,\u001b[0m \u001b[0mname\u001b[0m\u001b[0;34m:\u001b[0m \u001b[0mstr\u001b[0m\u001b[0;34m,\u001b[0m \u001b[0mvalue\u001b[0m\u001b[0;34m)\u001b[0m \u001b[0;34m->\u001b[0m \u001b[0;32mNone\u001b[0m\u001b[0;34m:\u001b[0m\u001b[0;34m\u001b[0m\u001b[0;34m\u001b[0m\u001b[0m\n",
      "\u001b[0;31mAttributeError\u001b[0m: 'DataFrame' object has no attribute 'countplot'"
     ]
    }
   ],
   "source": [
    "\n",
    "\n"
   ]
  },
  {
   "cell_type": "code",
   "execution_count": 73,
   "metadata": {},
   "outputs": [
    {
     "ename": "SyntaxError",
     "evalue": "invalid syntax (<ipython-input-73-27a77d618a98>, line 9)",
     "output_type": "error",
     "traceback": [
      "\u001b[0;36m  File \u001b[0;32m\"<ipython-input-73-27a77d618a98>\"\u001b[0;36m, line \u001b[0;32m9\u001b[0m\n\u001b[0;31m    artist_df.sort_values('h-index', ascending = False, inplace = True)\u001b[0m\n\u001b[0m            ^\u001b[0m\n\u001b[0;31mSyntaxError\u001b[0m\u001b[0;31m:\u001b[0m invalid syntax\n"
     ]
    }
   ],
   "source": []
  },
  {
   "cell_type": "code",
   "execution_count": null,
   "metadata": {},
   "outputs": [],
   "source": []
  }
 ],
 "metadata": {
  "anaconda-cloud": {},
  "kernelspec": {
   "display_name": "Python 3.6.13 64-bit ('py36': conda)",
   "name": "python3613jvsc74a57bd08eadbbc7623e23f8651ace8e7be1f24997dcf15bc16e68b33d208064dbcf6d67"
  },
  "language_info": {
   "codemirror_mode": {
    "name": "ipython",
    "version": 3
   },
   "file_extension": ".py",
   "mimetype": "text/x-python",
   "name": "python",
   "nbconvert_exporter": "python",
   "pygments_lexer": "ipython3",
   "version": "3.6.13"
  }
 },
 "nbformat": 4,
 "nbformat_minor": 4
}
