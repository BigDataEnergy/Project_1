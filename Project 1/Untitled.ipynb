{
 "cells": [
  {
   "cell_type": "code",
   "execution_count": 2,
   "id": "22571c49",
   "metadata": {},
   "outputs": [
    {
     "data": {
      "text/html": [
       "<div>\n",
       "<style scoped>\n",
       "    .dataframe tbody tr th:only-of-type {\n",
       "        vertical-align: middle;\n",
       "    }\n",
       "\n",
       "    .dataframe tbody tr th {\n",
       "        vertical-align: top;\n",
       "    }\n",
       "\n",
       "    .dataframe thead th {\n",
       "        text-align: right;\n",
       "    }\n",
       "</style>\n",
       "<table border=\"1\" class=\"dataframe\">\n",
       "  <thead>\n",
       "    <tr style=\"text-align: right;\">\n",
       "      <th></th>\n",
       "      <th>year</th>\n",
       "      <th>bpm</th>\n",
       "      <th>nrgy</th>\n",
       "      <th>dnce</th>\n",
       "      <th>live</th>\n",
       "      <th>val</th>\n",
       "      <th>dur</th>\n",
       "      <th>acous</th>\n",
       "      <th>spch</th>\n",
       "      <th>pop</th>\n",
       "    </tr>\n",
       "    <tr>\n",
       "      <th>title</th>\n",
       "      <th></th>\n",
       "      <th></th>\n",
       "      <th></th>\n",
       "      <th></th>\n",
       "      <th></th>\n",
       "      <th></th>\n",
       "      <th></th>\n",
       "      <th></th>\n",
       "      <th></th>\n",
       "      <th></th>\n",
       "    </tr>\n",
       "  </thead>\n",
       "  <tbody>\n",
       "    <tr>\n",
       "      <th>Hey, Soul Sister</th>\n",
       "      <td>2010</td>\n",
       "      <td>97</td>\n",
       "      <td>89</td>\n",
       "      <td>67</td>\n",
       "      <td>8</td>\n",
       "      <td>80</td>\n",
       "      <td>217</td>\n",
       "      <td>19</td>\n",
       "      <td>4</td>\n",
       "      <td>83</td>\n",
       "    </tr>\n",
       "    <tr>\n",
       "      <th>Love The Way You Lie</th>\n",
       "      <td>2010</td>\n",
       "      <td>87</td>\n",
       "      <td>93</td>\n",
       "      <td>75</td>\n",
       "      <td>52</td>\n",
       "      <td>64</td>\n",
       "      <td>263</td>\n",
       "      <td>24</td>\n",
       "      <td>23</td>\n",
       "      <td>82</td>\n",
       "    </tr>\n",
       "    <tr>\n",
       "      <th>TiK ToK</th>\n",
       "      <td>2010</td>\n",
       "      <td>120</td>\n",
       "      <td>84</td>\n",
       "      <td>76</td>\n",
       "      <td>29</td>\n",
       "      <td>71</td>\n",
       "      <td>200</td>\n",
       "      <td>10</td>\n",
       "      <td>14</td>\n",
       "      <td>80</td>\n",
       "    </tr>\n",
       "    <tr>\n",
       "      <th>Bad Romance</th>\n",
       "      <td>2010</td>\n",
       "      <td>119</td>\n",
       "      <td>92</td>\n",
       "      <td>70</td>\n",
       "      <td>8</td>\n",
       "      <td>71</td>\n",
       "      <td>295</td>\n",
       "      <td>0</td>\n",
       "      <td>4</td>\n",
       "      <td>79</td>\n",
       "    </tr>\n",
       "    <tr>\n",
       "      <th>Just the Way You Are</th>\n",
       "      <td>2010</td>\n",
       "      <td>109</td>\n",
       "      <td>84</td>\n",
       "      <td>64</td>\n",
       "      <td>9</td>\n",
       "      <td>43</td>\n",
       "      <td>221</td>\n",
       "      <td>2</td>\n",
       "      <td>4</td>\n",
       "      <td>78</td>\n",
       "    </tr>\n",
       "  </tbody>\n",
       "</table>\n",
       "</div>"
      ],
      "text/plain": [
       "                      year  bpm  nrgy  dnce  live  val  dur  acous  spch  pop\n",
       "title                                                                        \n",
       "Hey, Soul Sister      2010   97    89    67     8   80  217     19     4   83\n",
       "Love The Way You Lie  2010   87    93    75    52   64  263     24    23   82\n",
       "TiK ToK               2010  120    84    76    29   71  200     10    14   80\n",
       "Bad Romance           2010  119    92    70     8   71  295      0     4   79\n",
       "Just the Way You Are  2010  109    84    64     9   43  221      2     4   78"
      ]
     },
     "execution_count": 2,
     "metadata": {},
     "output_type": "execute_result"
    }
   ],
   "source": [
    "import pandas as pd\n",
    "import numpy as np\n",
    "import matplotlib.pyplot as plt\n",
    "\n",
    "data = pd.read_csv(\"data/top10s.csv\")\n",
    "df = pd.DataFrame(data)\n",
    "df = df.set_index('title')\n",
    "df = df.drop(columns=['Unnamed: 0', 'top genre', 'artist','dB'])\n",
    "df.head()"
   ]
  },
  {
   "cell_type": "code",
   "execution_count": 3,
   "id": "bf5ae1e7",
   "metadata": {},
   "outputs": [
    {
     "name": "stdout",
     "output_type": "stream",
     "text": [
      "   year         bpm       nrgy       dnce       live        val         dur  \\\n",
      "0  2010  122.058824  77.901961  64.529412  21.176471  57.000000  229.803922   \n",
      "1  2011  119.075472  74.886792  63.641509  20.943396  53.698113  242.566038   \n",
      "2  2012  121.085714  75.485714  65.714286  15.828571  64.171429  224.400000   \n",
      "3  2013  121.676056  73.873239  62.042254  19.718310  53.183099  234.492958   \n",
      "4  2014  123.000000  67.775862  62.534483  17.293103  52.086207  224.155172   \n",
      "5  2015  119.768421  70.336842  63.663158  18.305263  52.526316  223.368421   \n",
      "6  2016  114.325000  67.237500  63.325000  17.737500  45.150000  220.225000   \n",
      "7  2017  116.800000  69.169231  65.369231  15.369231  52.276923  222.169231   \n",
      "8  2018  114.593750  65.468750  67.203125  14.750000  48.765625  217.187500   \n",
      "9  2019  112.451613  64.741935  69.709677  15.161290  50.806452  200.645161   \n",
      "\n",
      "       acous      spch        pop  \n",
      "0  11.627451  8.882353  64.254902  \n",
      "1  13.339623  9.660377  61.867925  \n",
      "2   4.857143  5.800000  67.771429  \n",
      "3  10.323944  8.309859  63.985915  \n",
      "4  17.551724  8.672414  62.706897  \n",
      "5  16.600000  7.052632  64.568421  \n",
      "6  15.875000  8.362500  64.162500  \n",
      "7  16.600000  9.784615  69.015385  \n",
      "8  12.781250  8.625000  72.437500  \n",
      "9  21.741935  8.129032  84.354839  \n"
     ]
    }
   ],
   "source": [
    "group_df = df.groupby('year')\n",
    "\n",
    "ten = group_df.get_group(2010)\n",
    "eleven = group_df.get_group(2011)\n",
    "twelve = group_df.get_group(2012)\n",
    "thirteen = group_df.get_group(2013)\n",
    "fourteen = group_df.get_group(2014)\n",
    "fifteen = group_df.get_group(2015)\n",
    "sixteen = group_df.get_group(2016)\n",
    "seventeen = group_df.get_group(2017)\n",
    "eighteen = group_df.get_group(2018)\n",
    "nineteen = group_df.get_group(2019)\n",
    "\n",
    "sgroup_df = group_df.mean()\n",
    "sgroup_df = sgroup_df.reset_index(drop = False)\n",
    "print(sgroup_df)"
   ]
  },
  {
   "cell_type": "code",
   "execution_count": 4,
   "id": "859327c7",
   "metadata": {},
   "outputs": [
    {
     "data": {
      "image/png": "[encoded data removed]",
      "text/plain": [
       "<Figure size 432x288 with 1 Axes>"
      ]
     },
     "metadata": {
      "needs_background": "light"
     },
     "output_type": "display_data"
    }
   ],
   "source": [
    "x = sgroup_df['year']\n",
    "y = sgroup_df['acous']\n",
    "y2 = sgroup_df['dnce']\n",
    "y3 = sgroup_df['nrgy']\n",
    "\n",
    "plt.plot(x,y, label = 'acous')\n",
    "plt.plot(x,y2, label = 'dnce')\n",
    "plt.plot(x, y3, label = 'nrgy')\n",
    "plt.legend()\n",
    "plt.show()"
   ]
  },
  {
   "cell_type": "code",
   "execution_count": 7,
   "id": "30d160af",
   "metadata": {},
   "outputs": [
    {
     "data": {
      "text/plain": [
       "<function matplotlib.pyplot.show>"
      ]
     },
     "execution_count": 7,
     "metadata": {},
     "output_type": "execute_result"
    },
    {
     "data": {
      "image/png": "[encoded data removed]",
      "text/plain": [
       "<Figure size 432x288 with 1 Axes>"
      ]
     },
     "metadata": {
      "needs_background": "light"
     },
     "output_type": "display_data"
    }
   ],
   "source": [
    "x = sgroup_df['nrgy']\n",
    "y = sgroup_df['dnce']\n",
    "\n",
    "plt.scatter(x,y)\n",
    "plt.show"
   ]
  },
  {
   "cell_type": "code",
   "execution_count": null,
   "id": "17f861b9",
   "metadata": {},
   "outputs": [],
   "source": []
  }
 ],
 "metadata": {
  "kernelspec": {
   "display_name": "Python [conda env:PythonData]",
   "language": "python",
   "name": "conda-env-PythonData-py"
  },
  "language_info": {
   "codemirror_mode": {
    "name": "ipython",
    "version": 3
   },
   "file_extension": ".py",
   "mimetype": "text/x-python",
   "name": "python",
   "nbconvert_exporter": "python",
   "pygments_lexer": "ipython3",
   "version": "3.6.12"
  }
 },
 "nbformat": 4,
 "nbformat_minor": 5
}
