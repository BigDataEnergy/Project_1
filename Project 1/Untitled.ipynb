{
 "cells": [
  {
   "cell_type": "code",
   "execution_count": 130,
   "id": "0cd050aa",
   "metadata": {},
   "outputs": [
    {
     "data": {
      "text/html": [
       "<div>\n",
       "<style scoped>\n",
       "    .dataframe tbody tr th:only-of-type {\n",
       "        vertical-align: middle;\n",
       "    }\n",
       "\n",
       "    .dataframe tbody tr th {\n",
       "        vertical-align: top;\n",
       "    }\n",
       "\n",
       "    .dataframe thead th {\n",
       "        text-align: right;\n",
       "    }\n",
       "</style>\n",
       "<table border=\"1\" class=\"dataframe\">\n",
       "  <thead>\n",
       "    <tr style=\"text-align: right;\">\n",
       "      <th></th>\n",
       "      <th>year</th>\n",
       "      <th>bpm</th>\n",
       "      <th>nrgy</th>\n",
       "      <th>dnce</th>\n",
       "      <th>live</th>\n",
       "      <th>val</th>\n",
       "      <th>dur</th>\n",
       "      <th>acous</th>\n",
       "      <th>spch</th>\n",
       "      <th>pop</th>\n",
       "    </tr>\n",
       "    <tr>\n",
       "      <th>title</th>\n",
       "      <th></th>\n",
       "      <th></th>\n",
       "      <th></th>\n",
       "      <th></th>\n",
       "      <th></th>\n",
       "      <th></th>\n",
       "      <th></th>\n",
       "      <th></th>\n",
       "      <th></th>\n",
       "      <th></th>\n",
       "    </tr>\n",
       "  </thead>\n",
       "  <tbody>\n",
       "    <tr>\n",
       "      <th>Hey, Soul Sister</th>\n",
       "      <td>2010</td>\n",
       "      <td>97</td>\n",
       "      <td>89</td>\n",
       "      <td>67</td>\n",
       "      <td>8</td>\n",
       "      <td>80</td>\n",
       "      <td>217</td>\n",
       "      <td>19</td>\n",
       "      <td>4</td>\n",
       "      <td>83</td>\n",
       "    </tr>\n",
       "    <tr>\n",
       "      <th>Love The Way You Lie</th>\n",
       "      <td>2010</td>\n",
       "      <td>87</td>\n",
       "      <td>93</td>\n",
       "      <td>75</td>\n",
       "      <td>52</td>\n",
       "      <td>64</td>\n",
       "      <td>263</td>\n",
       "      <td>24</td>\n",
       "      <td>23</td>\n",
       "      <td>82</td>\n",
       "    </tr>\n",
       "    <tr>\n",
       "      <th>TiK ToK</th>\n",
       "      <td>2010</td>\n",
       "      <td>120</td>\n",
       "      <td>84</td>\n",
       "      <td>76</td>\n",
       "      <td>29</td>\n",
       "      <td>71</td>\n",
       "      <td>200</td>\n",
       "      <td>10</td>\n",
       "      <td>14</td>\n",
       "      <td>80</td>\n",
       "    </tr>\n",
       "    <tr>\n",
       "      <th>Bad Romance</th>\n",
       "      <td>2010</td>\n",
       "      <td>119</td>\n",
       "      <td>92</td>\n",
       "      <td>70</td>\n",
       "      <td>8</td>\n",
       "      <td>71</td>\n",
       "      <td>295</td>\n",
       "      <td>0</td>\n",
       "      <td>4</td>\n",
       "      <td>79</td>\n",
       "    </tr>\n",
       "    <tr>\n",
       "      <th>Just the Way You Are</th>\n",
       "      <td>2010</td>\n",
       "      <td>109</td>\n",
       "      <td>84</td>\n",
       "      <td>64</td>\n",
       "      <td>9</td>\n",
       "      <td>43</td>\n",
       "      <td>221</td>\n",
       "      <td>2</td>\n",
       "      <td>4</td>\n",
       "      <td>78</td>\n",
       "    </tr>\n",
       "  </tbody>\n",
       "</table>\n",
       "</div>"
      ],
      "text/plain": [
       "                      year  bpm  nrgy  dnce  live  val  dur  acous  spch  pop\n",
       "title                                                                        \n",
       "Hey, Soul Sister      2010   97    89    67     8   80  217     19     4   83\n",
       "Love The Way You Lie  2010   87    93    75    52   64  263     24    23   82\n",
       "TiK ToK               2010  120    84    76    29   71  200     10    14   80\n",
       "Bad Romance           2010  119    92    70     8   71  295      0     4   79\n",
       "Just the Way You Are  2010  109    84    64     9   43  221      2     4   78"
      ]
     },
     "execution_count": 130,
     "metadata": {},
     "output_type": "execute_result"
    }
   ],
   "source": [
    "import pandas as pd\n",
    "import numpy as np\n",
    "import matplotlib.pyplot as plt\n",
    "import matplotlib.cm as cm\n",
    "from scipy.stats import linregress\n",
    "\n",
    "data = pd.read_csv(\"data/top10s.csv\")\n",
    "df = pd.DataFrame(data)\n",
    "df = df.set_index('title')\n",
    "df = df.drop(columns=['Unnamed: 0', 'top genre', 'artist','dB'])\n",
    "df.head()"
   ]
  },
  {
   "cell_type": "code",
   "execution_count": 131,
   "id": "b7899ab2",
   "metadata": {},
   "outputs": [
    {
     "name": "stdout",
     "output_type": "stream",
     "text": [
      "      bpm  nrgy  dnce  live  val  dur  acous  spch  pop\n",
      "year                                                   \n",
      "2010   51    51    51    51   51   51     51    51   51\n",
      "2011   53    53    53    53   53   53     53    53   53\n",
      "2012   35    35    35    35   35   35     35    35   35\n",
      "2013   71    71    71    71   71   71     71    71   71\n",
      "2014   58    58    58    58   58   58     58    58   58\n",
      "2015   95    95    95    95   95   95     95    95   95\n",
      "2016   80    80    80    80   80   80     80    80   80\n",
      "2017   65    65    65    65   65   65     65    65   65\n",
      "2018   64    64    64    64   64   64     64    64   64\n",
      "2019   31    31    31    31   31   31     31    31   31\n"
     ]
    }
   ],
   "source": [
    "group_df = df.groupby('year')\n",
    "\n",
    "ten = group_df.get_group(2010)\n",
    "eleven = group_df.get_group(2011)\n",
    "twelve = group_df.get_group(2012)\n",
    "thirteen = group_df.get_group(2013)\n",
    "fourteen = group_df.get_group(2014)\n",
    "fifteen = group_df.get_group(2015)\n",
    "sixteen = group_df.get_group(2016)\n",
    "seventeen = group_df.get_group(2017)\n",
    "eighteen = group_df.get_group(2018)\n",
    "nineteen = group_df.get_group(2019)\n",
    "\n",
    "sgroup_df = group_df.median()\n",
    "count_df = group_df.count()\n",
    "sgroup_df = sgroup_df.reset_index(drop = False)\n",
    "print(count_df)"
   ]
  },
  {
   "cell_type": "code",
   "execution_count": 132,
   "id": "ba5883e1",
   "metadata": {},
   "outputs": [
    {
     "data": {
      "image/png": "[encoded data removed]",
      "text/plain": [
       "<Figure size 432x288 with 1 Axes>"
      ]
     },
     "metadata": {
      "needs_background": "light"
     },
     "output_type": "display_data"
    },
    {
     "data": {
      "text/plain": [
       "<Figure size 432x288 with 0 Axes>"
      ]
     },
     "metadata": {},
     "output_type": "display_data"
    }
   ],
   "source": [
    "x = sgroup_df['year']\n",
    "y = sgroup_df['val']\n",
    "y2 = sgroup_df['dnce']\n",
    "y3 = sgroup_df['nrgy']\n",
    "y4 = sgroup_df['dur']*.35\n",
    "y5 = sgroup_df['bpm']*.5\n",
    "\n",
    "#generate chart\n",
    "plt.plot(x, y, label = 'valence')\n",
    "plt.plot(x,y2, label = 'dance')\n",
    "plt.plot(x, y3, label = 'energy')\n",
    "plt.plot(x, y4, label = 'duration', color = 'black')\n",
    "plt.plot(x, y5, label = 'bpm', color = 'gold')\n",
    "\n",
    "\n",
    "#labels\n",
    "plt.xlabel('Year')\n",
    "plt.ylabel('Median Ratings (scaled)')\n",
    "plt.legend(bbox_to_anchor=(1.0,1.0))\n",
    "plt.show()\n",
    "plt.savefig('data/medianratingsovertime.png')\n",
    "##songs getting simpler over time?"
   ]
  },
  {
   "cell_type": "code",
   "execution_count": 133,
   "id": "d88c96c5",
   "metadata": {},
   "outputs": [
    {
     "data": {
      "image/png": "[encoded data removed]",
      "text/plain": [
       "<Figure size 432x288 with 1 Axes>"
      ]
     },
     "metadata": {
      "needs_background": "light"
     },
     "output_type": "display_data"
    },
    {
     "data": {
      "text/plain": [
       "<Figure size 432x288 with 0 Axes>"
      ]
     },
     "metadata": {},
     "output_type": "display_data"
    }
   ],
   "source": [
    "x = sgroup_df['year']\n",
    "y = sgroup_df['pop']\n",
    "\n",
    "#regression\n",
    "(m, b, r, p, std) = linregress(x,y) \n",
    "reg = m*x + b\n",
    "line = 'y = ' + str(round(m,2)) + 'x + ' + str(round(b,2))\n",
    "\n",
    "#generate plot\n",
    "plt.scatter(x,y, label = 'pop')\n",
    "plt.plot(x,reg,'r-')\n",
    "\n",
    "#labels\n",
    "plt.xlabel('Year')\n",
    "plt.ylabel('Med Popularity Rating')\n",
    "plt.title('Median Popularity Ratings by Year')\n",
    "plt.annotate(line,(2010,76),fontsize=12,color=\"red\")\n",
    "plt.show()\n",
    "plt.savefig('data/medianpopularity.png')\n",
    "#fewer songs are getting more popular?"
   ]
  },
  {
   "cell_type": "code",
   "execution_count": null,
   "id": "96682534",
   "metadata": {},
   "outputs": [],
   "source": []
  }
 ],
 "metadata": {
  "kernelspec": {
   "display_name": "Python [conda env:PythonData] *",
   "language": "python",
   "name": "conda-env-PythonData-py"
  },
  "language_info": {
   "codemirror_mode": {
    "name": "ipython",
    "version": 3
   },
   "file_extension": ".py",
   "mimetype": "text/x-python",
   "name": "python",
   "nbconvert_exporter": "python",
   "pygments_lexer": "ipython3",
   "version": "3.6.12"
  }
 },
 "nbformat": 4,
 "nbformat_minor": 5
}
